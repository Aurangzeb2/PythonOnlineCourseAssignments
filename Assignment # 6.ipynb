{
 "cells": [
  {
   "cell_type": "markdown",
   "metadata": {},
   "source": [
    "# Assignment # 6"
   ]
  },
  {
   "cell_type": "markdown",
   "metadata": {},
   "source": [
    "# Question 1: Define Object Oriented Programming Language?"
   ]
  },
  {
   "cell_type": "code",
   "execution_count": null,
   "metadata": {},
   "outputs": [],
   "source": [
    "Object-oriented programming (OOP) refers to a type of computer programming (software design) in which programmers define the data type of a data structure, and also the types of operations (functions) that can be applied to the data structure.\n",
    "\n",
    "In this way, the data structure becomes an object that includes both data and functions. In addition, programmers can create relationships between one object and another. For example, objects can inherit characteristics from other objects."
   ]
  },
  {
   "cell_type": "markdown",
   "metadata": {},
   "source": [
    "# Question 2:\n",
    "List down the Benefits of OOP?# "
   ]
  },
  {
   "cell_type": "code",
   "execution_count": null,
   "metadata": {},
   "outputs": [],
   "source": [
    "OOP has become a fundamental part of software development. Thanks to the ubiquity of languages like Java and C++, you can’t develop software for mobile unless you understand the object-oriented approach. The same goes for serious web development, given the popularity of OOP languages like Python, PHP and Ruby.The advantages of object-oriented programming lie in this kind of encapsulation. Here’s a detailed look at some of OOP’s top benefits:"
   ]
  },
  {
   "cell_type": "markdown",
   "metadata": {},
   "source": [
    "# Question 3:\n",
    "Differentiate between function and method?"
   ]
  },
  {
   "cell_type": "code",
   "execution_count": null,
   "metadata": {},
   "outputs": [],
   "source": [
    "In our journey with Python, we’ve seen the Python method and function. But don’t they feel the same? Well then, time to make a comparison between Python function and Method with examples. But before that, let’s revise both – function and method in Python.\n",
    "\n",
    "So, let’s start Difference Between Method and Function in Python.Python function is a sequence of statements that execute in a certain order, given a name. They let us implement code reusability. When we talked about Python Functions, we talked about built-in and user-defined functions."
   ]
  },
  {
   "cell_type": "markdown",
   "metadata": {},
   "source": [
    "# Question 4:\n",
    "Define the following terms:\n",
    "1. Class\n",
    "2. Object\n",
    "3. Attribute\n",
    "4. Behavior"
   ]
  },
  {
   "cell_type": "code",
   "execution_count": null,
   "metadata": {},
   "outputs": [],
   "source": [
    "All the attributes which are defined on a Person instance are instance attributes – they are added to the instance when the __init__ method is executed. We can, however, also define attributes which are set on the class. These attributes will be shared by all instances of that class. In many ways they behave just like instance attributes, but there are some caveats that you should be aware of behavior."
   ]
  },
  {
   "cell_type": "code",
   "execution_count": 5,
   "metadata": {},
   "outputs": [],
   "source": [
    "class Person:\n",
    "\n",
    "    TITLES = ('Dr', 'Mr', 'Mrs', 'Ms')\n",
    "\n",
    "    def __init__(self, title, name, surname):\n",
    "        if title not in self.TITLES:\n",
    "            raise ValueError(\"%s is not a valid title.\" % title)\n",
    "\n",
    "        self.title = title\n",
    "        self.name = name\n",
    "        self.surname = surname"
   ]
  },
  {
   "cell_type": "markdown",
   "metadata": {},
   "source": [
    "# Question 5:\n",
    "Write a code in python in which create a class named it Car which have 5 attributes such like (model, color and name etc.) and 3 methods. And create 5 object instance from that class."
   ]
  },
  {
   "cell_type": "code",
   "execution_count": null,
   "metadata": {},
   "outputs": [],
   "source": [
    "Class means a blueprint for the object. Class contains all the properties that object will have. \n",
    "syntax\n",
    "class Classname():\n",
    "    #Attributes inside init method\n",
    "    def init(self, parameters):\n",
    "        self.parameters = parameters \n",
    "    #Methods \n",
    "    def method1(self):\n",
    "        print(\"Aurangzeb\")\n",
    "Now Class have two main things the \"attributes\" and Methods. Variables that are defined inside class are called \"attributes\" and the functions that are defined inside class are called \"methods' or \"behaviours\".\n",
    "Object is the instance of a class. Object is the real world model of the class. Object contains all the properties attributes and behaviours that are defined inside a class.\n",
    "Syntax\n",
    "Objectname = Classname(args)\n",
    "Class is the general properties and Objects have the properties with their values.\n",
    "For example.\n",
    "class Car():\n",
    "    def init(self,name):\n",
    "        self.name = name\n",
    "\n",
    "    def showname(self):\n",
    "        print(name)\n",
    "\n",
    "now we have created a class car, that contains the attribute \"name\" and a method or behaviour \"showname()\".\n",
    "self is the prefix that is used to give reference of the class. It is a reference variable, wherever you write self it means you are accessing that class's attributes or methods.\n",
    "Now we create two objects of the same class.\n",
    "car1 = Car(\"Corolla\")\n",
    "car2 = Car(\"mercedez\")\n",
    "now you see these objects have values corolla and civic and assigned to the property name.\n",
    "These are real world objects.\n",
    "Now if you call object's attributes.\n",
    "car1.name    it will return corolla\n",
    "car2.name    it will return civic\n",
    "and if you call methods\n",
    "car1.showname()     it will print corolla\n",
    "car2.showname()     it will print civic\n",
    "So this is my explaination, hope you understood, if you have any confusion, you can ask."
   ]
  }
 ],
 "metadata": {
  "kernelspec": {
   "display_name": "Python 3",
   "language": "python",
   "name": "python3"
  },
  "language_info": {
   "codemirror_mode": {
    "name": "ipython",
    "version": 3
   },
   "file_extension": ".py",
   "mimetype": "text/x-python",
   "name": "python",
   "nbconvert_exporter": "python",
   "pygments_lexer": "ipython3",
   "version": "3.7.3"
  }
 },
 "nbformat": 4,
 "nbformat_minor": 2
}
